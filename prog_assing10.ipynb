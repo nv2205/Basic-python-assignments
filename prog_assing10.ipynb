{
 "cells": [
  {
   "cell_type": "code",
   "execution_count": null,
   "metadata": {},
   "outputs": [],
   "source": [
    "1. Write a Python program to find sum of elements in list?\n",
    "2. Write a Python program to Multiply all numbers in the list?\n",
    "3. Write a Python program to find smallest number in a list?\n",
    "4. Write a Python program to find largest number in a list?\n",
    "5. Write a Python program to find second largest number in a list?\n",
    "6. Write a Python program to find N largest elements from a list?\n",
    "7. Write a Python program to print even numbers in a list?\n",
    "8. Write a Python program to print odd numbers in a List?\n",
    "9. Write a Python program to Remove empty List from List?\n",
    "10. Write a Python program to Cloning or Copying a list?\n",
    "11. Write a Python program to Count occurrences of an element in a list?"
   ]
  },
  {
   "cell_type": "code",
   "execution_count": 2,
   "metadata": {},
   "outputs": [
    {
     "name": "stdout",
     "output_type": "stream",
     "text": [
      "Entered list: [23, 36, 65, 51, 54]\n",
      "The sum of elements is 229\n"
     ]
    }
   ],
   "source": [
    "#1. Write a Python program to find sum of elements in list?\n",
    "n = int(input('Enter number of elements'))\n",
    "l = []\n",
    "for i in range(n):\n",
    "    m = int(input('Enter integer element:'))\n",
    "    l.append(m)\n",
    "print('Entered list:',l)\n",
    "sum = 0\n",
    "for i in l:\n",
    "    sum = sum + i\n",
    "\n",
    "print('The sum of elements is',sum)"
   ]
  },
  {
   "cell_type": "code",
   "execution_count": 3,
   "metadata": {},
   "outputs": [
    {
     "name": "stdout",
     "output_type": "stream",
     "text": [
      "Entered list: [36, 65]\n",
      "The multiplication of elements is 2340\n"
     ]
    }
   ],
   "source": [
    "#2. Write a Python program to Multiply all numbers in the list?\n",
    "\n",
    "n = int(input('Enter number of elements'))\n",
    "l = []\n",
    "for i in range(n):\n",
    "    m = int(input('Enter integer element:'))\n",
    "    l.append(m)\n",
    "print('Entered list:',l)\n",
    "mul = 1\n",
    "for i in l:\n",
    "    mul = mul * i\n",
    "\n",
    "print('The multiplication of elements is',mul)"
   ]
  },
  {
   "cell_type": "code",
   "execution_count": 5,
   "metadata": {},
   "outputs": [
    {
     "name": "stdout",
     "output_type": "stream",
     "text": [
      "Entered list: [65, 52, 32]\n",
      "The smallest element is 32\n"
     ]
    }
   ],
   "source": [
    "#3. Write a Python program to find smallest number in a list?\n",
    "n = int(input('Enter number of elements'))\n",
    "l = []\n",
    "for i in range(n):\n",
    "    m = int(input('Enter integer element:'))\n",
    "    l.append(m)\n",
    "print('Entered list:',l)\n",
    "ele = l[0]\n",
    "for i in l:\n",
    "    if ele >= i:\n",
    "        ele = i\n",
    "    else:\n",
    "        pass\n",
    "\n",
    "print('The smallest element is',ele)"
   ]
  },
  {
   "cell_type": "code",
   "execution_count": 6,
   "metadata": {},
   "outputs": [
    {
     "name": "stdout",
     "output_type": "stream",
     "text": [
      "Entered list: [32, 63, 52, 84]\n",
      "The largest element is 84\n"
     ]
    }
   ],
   "source": [
    "#4. Write a Python program to find largest number in a list?\n",
    "n = int(input('Enter number of elements'))\n",
    "l = []\n",
    "for i in range(n):\n",
    "    m = int(input('Enter integer element:'))\n",
    "    l.append(m)\n",
    "print('Entered list:',l)\n",
    "ele = l[0]\n",
    "for i in l:\n",
    "    if ele <= i:\n",
    "        ele = i\n",
    "    else:\n",
    "        pass\n",
    "\n",
    "print('The largest element is',ele)"
   ]
  },
  {
   "cell_type": "code",
   "execution_count": 6,
   "metadata": {},
   "outputs": [
    {
     "name": "stdout",
     "output_type": "stream",
     "text": [
      "Entered list: [21, 20, 30, 35, 45]\n",
      "The second largest element is 35\n"
     ]
    }
   ],
   "source": [
    "#5. Write a Python program to find second largest number in a list?\n",
    "n = int(input('Enter number of elements'))\n",
    "l = []\n",
    "for i in range(n):\n",
    "    m = int(input('Enter integer element:'))\n",
    "    l.append(m)\n",
    "print('Entered list:',l)\n",
    "l1 = []\n",
    "for i in range(0,2):\n",
    "    ele = 0\n",
    "    for j in l:\n",
    "        if j > ele:\n",
    "            ele = j\n",
    "        else:\n",
    "            pass\n",
    "    l1.append(ele)\n",
    "    l.remove(ele)\n",
    "\n",
    "print('The second largest element is',l1[-1])"
   ]
  },
  {
   "cell_type": "code",
   "execution_count": 5,
   "metadata": {},
   "outputs": [
    {
     "name": "stdout",
     "output_type": "stream",
     "text": [
      "Entered list: [56, 54, 45, 65, 25, 62]\n",
      "The 3 largest element is 56\n"
     ]
    }
   ],
   "source": [
    "#6. Write a Python program to find N largest elements from a list?\n",
    "n = int(input('Enter number of elements'))\n",
    "l = []\n",
    "for i in range(n):\n",
    "    m = int(input('Enter integer element:'))\n",
    "    l.append(m)\n",
    "print('Entered list:',l)\n",
    "t = int(input('Enter element position:'))\n",
    "l1 = []\n",
    "for i in range(0,t):\n",
    "    ele = 0\n",
    "    for j in l:\n",
    "        if j > ele:\n",
    "            ele = j\n",
    "        else:\n",
    "            pass\n",
    "    l1.append(ele)\n",
    "    l.remove(ele)\n",
    "\n",
    "print('The {} largest element is {}'.format(t, l1[-1]))"
   ]
  },
  {
   "cell_type": "code",
   "execution_count": 3,
   "metadata": {},
   "outputs": [
    {
     "name": "stdout",
     "output_type": "stream",
     "text": [
      "Entered list: [3, 6, 4, 52, 32]\n",
      "lest of even numbers in entered list is [6, 4, 52, 32]\n"
     ]
    }
   ],
   "source": [
    "#7. Write a Python program to print even numbers in a list?\n",
    "n = int(input('Enter number of elements'))\n",
    "l = []\n",
    "for i in range(n):\n",
    "    m = int(input('Enter integer element:'))\n",
    "    l.append(m)\n",
    "print('Entered list:',l)\n",
    "l1 = []\n",
    "for i in l:\n",
    "    if (i%2) == 0:\n",
    "        l1.append(i)\n",
    "print('lest of even numbers in entered list is',l1)"
   ]
  },
  {
   "cell_type": "code",
   "execution_count": 4,
   "metadata": {},
   "outputs": [
    {
     "name": "stdout",
     "output_type": "stream",
     "text": [
      "Entered list: [32, 56, 41, 21, 56, 32]\n",
      "lest of odd numbers in entered list is [41, 21]\n"
     ]
    }
   ],
   "source": [
    "#8. Write a Python program to print odd numbers in a List?\n",
    "n = int(input('Enter number of elements'))\n",
    "l = []\n",
    "for i in range(n):\n",
    "    m = int(input('Enter integer element:'))\n",
    "    l.append(m)\n",
    "print('Entered list:',l)\n",
    "l1 = []\n",
    "for i in l:\n",
    "    if (i%2) != 0:\n",
    "        l1.append(i)\n",
    "print('lest of odd numbers in entered list is',l1)"
   ]
  },
  {
   "cell_type": "code",
   "execution_count": 6,
   "metadata": {},
   "outputs": [
    {
     "name": "stdout",
     "output_type": "stream",
     "text": [
      "Entered list: [1, 5, 'Niyati', [], 4.5]\n",
      "Updated list: [1, 5, 'Niyati', 4.5]\n"
     ]
    }
   ],
   "source": [
    "#9. Write a Python program to Remove empty List from List?\n",
    "l = [1,5,'Niyati',[],4.5]\n",
    "print('Entered list:',l)\n",
    "for i in l:\n",
    "    if i == []:\n",
    "        l.remove(i)\n",
    "\n",
    "print('Updated list:',l)"
   ]
  },
  {
   "cell_type": "code",
   "execution_count": 7,
   "metadata": {},
   "outputs": [
    {
     "name": "stdout",
     "output_type": "stream",
     "text": [
      "Entered list: [32, 52, 12, 95, 45]\n",
      "Copied list: [32, 52, 12, 95, 45]\n"
     ]
    }
   ],
   "source": [
    "#10. Write a Python program to Cloning or Copying a list?\n",
    "n = int(input('Enter number of elements'))\n",
    "l = []\n",
    "for i in range(n):\n",
    "    m = int(input('Enter integer element:'))\n",
    "    l.append(m)\n",
    "print('Entered list:',l)\n",
    "\n",
    "l1 = []\n",
    "l1 = l.copy()\n",
    "print('Copied list:',l1)"
   ]
  },
  {
   "cell_type": "code",
   "execution_count": 9,
   "metadata": {},
   "outputs": [
    {
     "name": "stdout",
     "output_type": "stream",
     "text": [
      "Entered list: [32, 41, 62, 42, 32]\n",
      "32 is present 2 times in entered list\n"
     ]
    }
   ],
   "source": [
    "#11. Write a Python program to Count occurrences of an element in a list?\n",
    "n = int(input('Enter number of elements'))\n",
    "l = []\n",
    "for i in range(n):\n",
    "    m = int(input('Enter integer element:'))\n",
    "    l.append(m)\n",
    "print('Entered list:',l)\n",
    "ele = int(input('Enter required element:'))\n",
    "count = 0\n",
    "for i in l:\n",
    "    if ele == i:\n",
    "        count = count + 1\n",
    "\n",
    "print('{} is present {} times in entered list.'.format(ele,count))"
   ]
  }
 ],
 "metadata": {
  "kernelspec": {
   "display_name": "Python 3.10.7 64-bit (microsoft store)",
   "language": "python",
   "name": "python3"
  },
  "language_info": {
   "codemirror_mode": {
    "name": "ipython",
    "version": 3
   },
   "file_extension": ".py",
   "mimetype": "text/x-python",
   "name": "python",
   "nbconvert_exporter": "python",
   "pygments_lexer": "ipython3",
   "version": "3.10.7"
  },
  "orig_nbformat": 4,
  "vscode": {
   "interpreter": {
    "hash": "e2264beec8d7b11bb795fca20355b0351ef22b1e6bbd267fd730473e336e3027"
   }
  }
 },
 "nbformat": 4,
 "nbformat_minor": 2
}
