{
 "cells": [
  {
   "cell_type": "code",
   "execution_count": null,
   "metadata": {},
   "outputs": [],
   "source": [
    "1. Write a Python Program to find sum of array?\n",
    "2. Write a Python Program to find largest element in an array?\n",
    "3. Write a Python Program for array rotation?\n",
    "4. Write a Python Program to Split the array and add the first part to the end?\n",
    "5. Write a Python Program to check if given array is Monotonic?"
   ]
  },
  {
   "cell_type": "code",
   "execution_count": 5,
   "metadata": {},
   "outputs": [
    {
     "name": "stdout",
     "output_type": "stream",
     "text": [
      "[1, 2, 3, 4, 5]\n",
      "The aum of array is  15\n"
     ]
    }
   ],
   "source": [
    "# 1. Write a Python Program to find sum of array?\n",
    "ele = int(input(\"Enter number od elements\"))\n",
    "arr = []\n",
    "for j in range(ele):\n",
    "    a = int(input(\"Enter the element\"))\n",
    "    arr.append(a)\n",
    "print(arr)\n",
    "sum = 0\n",
    "for i in arr:\n",
    "    sum = sum + i\n",
    "print(\"The sum of array is\", sum)\n"
   ]
  },
  {
   "cell_type": "code",
   "execution_count": 7,
   "metadata": {},
   "outputs": [
    {
     "name": "stdout",
     "output_type": "stream",
     "text": [
      "[12, 45, 62, 32, 21]\n",
      "The biggest number in array is 62\n"
     ]
    }
   ],
   "source": [
    "# 2. Write a Python Program to find largest element in an array?\n",
    "ele = int(input(\"Enter number of elements\"))\n",
    "arr = []\n",
    "for j in range(ele):\n",
    "    a = int(input(\"Enter the element\"))\n",
    "    arr.append(a)\n",
    "print(arr)\n",
    "\n",
    "num = arr[0]\n",
    "for i in range(len(arr)):\n",
    "    if num < arr[i]:\n",
    "        num = arr[i]\n",
    "print(\"The biggest number in array is\", num)\n"
   ]
  },
  {
   "cell_type": "code",
   "execution_count": 16,
   "metadata": {},
   "outputs": [
    {
     "name": "stdout",
     "output_type": "stream",
     "text": [
      "[20, 21, 25, 45, 68]\n",
      "Array after left rotation is:  [25, 45, 68, 20, 21]\n"
     ]
    }
   ],
   "source": [
    "#3. Write a Python Program for array rotation?\n",
    "\n",
    "def rotateArray(arr, n, d):\n",
    "    temp = []\n",
    "    i = 0\n",
    "    while (i < d):\n",
    "        temp.append(arr[i])\n",
    "        i = i + 1\n",
    "    i = 0\n",
    "    while (d < n):\n",
    "        arr[i] = arr[d]\n",
    "        i = i + 1\n",
    "        d = d + 1\n",
    "    arr[:] = arr[: i] + temp\n",
    "    return arr\n",
    "\n",
    "\n",
    "ele = int(input('Enter number of elements'))\n",
    "arr = []\n",
    "for j in range(ele):\n",
    "    a = int(input('Enter the element'))\n",
    "    arr.append(a)\n",
    "print(arr)\n",
    "print(\"Array after left rotation is: \", end=' ')\n",
    "print(rotateArray(arr, len(arr), 2))"
   ]
  },
  {
   "cell_type": "code",
   "execution_count": 17,
   "metadata": {},
   "outputs": [
    {
     "name": "stdout",
     "output_type": "stream",
     "text": [
      "[12, 26, 58, 95, 65]\n",
      "58 95 65 12 26 "
     ]
    }
   ],
   "source": [
    "#4. Write a Python Program to Split the array and add the first part to the end?\n",
    "def split(arr, n, k): \n",
    "    for i in range(0, k): \n",
    "        x = arr[0]\n",
    "        for j in range(0, n-1):\n",
    "            arr[j] = arr[j + 1]\n",
    "        arr[n-1] = x\n",
    "\n",
    "ele = int(input('Enter number of elements:'))\n",
    "arr = []\n",
    "for j in range(ele):\n",
    "    a = int(input('Enter the element:'))\n",
    "    arr.append(a)\n",
    "print(arr)\n",
    "n = len(arr)\n",
    "position = int(input('Enter the position to split:'))\n",
    "\n",
    "split(arr, n, position)\n",
    "\n",
    "for i in range(0, n): \n",
    "    print(arr[i], end = ' ')"
   ]
  },
  {
   "cell_type": "code",
   "execution_count": 33,
   "metadata": {},
   "outputs": [
    {
     "name": "stdout",
     "output_type": "stream",
     "text": [
      "[10, 20, 30]\n",
      "The array is monotonic.\n"
     ]
    }
   ],
   "source": [
    "#5. Write a Python Program to check if given array is Monotonic?\n",
    "def monoton(arr):\n",
    "    return (all(arr[i] <= arr[i + 1] for i in range(len(arr) - 1)) or\n",
    "            all(arr[i] >= arr[i + 1] for i in range(len(arr) - 1)))\n",
    "\n",
    "ele = int(input('Enter number of elements:'))\n",
    "arr = []\n",
    "for j in range(ele):\n",
    "    a = int(input('Enter the element:'))\n",
    "    arr.append(a)\n",
    "print(arr)\n",
    "\n",
    "if monoton(arr)==True:\n",
    "    print('The array is monotonic.')\n",
    "else:\n",
    "    print('The array is not monotonic.')"
   ]
  }
 ],
 "metadata": {
  "kernelspec": {
   "display_name": "Python 3.10.7 64-bit (microsoft store)",
   "language": "python",
   "name": "python3"
  },
  "language_info": {
   "codemirror_mode": {
    "name": "ipython",
    "version": 3
   },
   "file_extension": ".py",
   "mimetype": "text/x-python",
   "name": "python",
   "nbconvert_exporter": "python",
   "pygments_lexer": "ipython3",
   "version": "3.10.7"
  },
  "orig_nbformat": 4,
  "vscode": {
   "interpreter": {
    "hash": "e2264beec8d7b11bb795fca20355b0351ef22b1e6bbd267fd730473e336e3027"
   }
  }
 },
 "nbformat": 4,
 "nbformat_minor": 2
}
