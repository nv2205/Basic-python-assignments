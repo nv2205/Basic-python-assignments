{
 "cells": [
  {
   "cell_type": "code",
   "execution_count": 2,
   "metadata": {},
   "outputs": [
    {
     "name": "stdout",
     "output_type": "stream",
     "text": [
      "2 km = 1.24 miles\n"
     ]
    }
   ],
   "source": [
    "#1. Write a Python program to convert kilometers to miles?\n",
    "km = int(input('Enter number of kilometers:'))\n",
    "mile = km*0.62\n",
    "print('{} km = {} miles'.format(km,mile))"
   ]
  },
  {
   "cell_type": "code",
   "execution_count": 4,
   "metadata": {},
   "outputs": [
    {
     "name": "stdout",
     "output_type": "stream",
     "text": [
      "25 Celsius temperature equeals to 77.0 in Fehrenheit\n"
     ]
    }
   ],
   "source": [
    "#2. Write a Python program to convert Celsius to Fahrenheit?\n",
    "c = int(input('Enter temperature in Celsius'))\n",
    "f = ((9*c)/5) + 32\n",
    "print('{} Celsius temperature equeals to {} in Fehrenheit.'.format(c,f))"
   ]
  },
  {
   "cell_type": "code",
   "execution_count": 5,
   "metadata": {},
   "outputs": [
    {
     "name": "stdout",
     "output_type": "stream",
     "text": [
      "      May 2022\n",
      "Mo Tu We Th Fr Sa Su\n",
      "                   1\n",
      " 2  3  4  5  6  7  8\n",
      " 9 10 11 12 13 14 15\n",
      "16 17 18 19 20 21 22\n",
      "23 24 25 26 27 28 29\n",
      "30 31\n",
      "\n"
     ]
    }
   ],
   "source": [
    "#3. Write a Python program to display calendar?\n",
    "import calendar\n",
    "year = int(input('Enter year:'))\n",
    "month = int(input('Enter month:'))\n",
    "print(calendar.month(year,month)) "
   ]
  },
  {
   "cell_type": "code",
   "execution_count": 5,
   "metadata": {},
   "outputs": [
    {
     "name": "stdout",
     "output_type": "stream",
     "text": [
      "Solutions of quadratic equation 2x^2 + -4x + 2 = 0 are 1.0 and 1.0\n"
     ]
    }
   ],
   "source": [
    "#4. Write a Python program to solve quadratic equation?\n",
    "a = int(input(\"Enter value of 'a' for eqaution ax^2+bx+c=0\"))\n",
    "b = int(input(\"Enter value of 'b' for eqaution ax^2+bx+c=0\"))\n",
    "c = int(input(\"Enter value of 'c' for eqaution ax^2+bx+c=0\"))\n",
    "D = b**2 - (4*a*c)\n",
    "x1 = ((-b) - (D**0.5))/(2*a)\n",
    "x2 = ((-b) + (D**0.5))/(2*a)\n",
    "print('Solutions of quadratic equation {}x^2 + {}x + {} = 0 are {} and {}'.format(a,b,c,x1,x2))\n"
   ]
  },
  {
   "cell_type": "code",
   "execution_count": 6,
   "metadata": {},
   "outputs": [
    {
     "name": "stdout",
     "output_type": "stream",
     "text": [
      "Before swap: a = 1 and b = 2\n",
      "After swap: a = 2 and b = 1\n"
     ]
    }
   ],
   "source": [
    "#5. Write a Python program to swap two variables without temp variable?\n",
    "a = input('Enter first variable.')\n",
    "b = input('Enter second variable')\n",
    "print('Before swap: a = {} and b = {}'.format(a,b))\n",
    "a,b=b,a\n",
    "print('After swap: a = {} and b = {}'.format(a,b))"
   ]
  }
 ],
 "metadata": {
  "kernelspec": {
   "display_name": "Python 3.10.4 64-bit",
   "language": "python",
   "name": "python3"
  },
  "language_info": {
   "codemirror_mode": {
    "name": "ipython",
    "version": 3
   },
   "file_extension": ".py",
   "mimetype": "text/x-python",
   "name": "python",
   "nbconvert_exporter": "python",
   "pygments_lexer": "ipython3",
   "version": "3.10.4"
  },
  "orig_nbformat": 4,
  "vscode": {
   "interpreter": {
    "hash": "8938edf0baac9b47804425380bd4e2ec76201205ee9477cad98447253a825e18"
   }
  }
 },
 "nbformat": 4,
 "nbformat_minor": 2
}
