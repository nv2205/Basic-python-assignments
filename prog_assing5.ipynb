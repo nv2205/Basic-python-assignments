{
 "cells": [
  {
   "cell_type": "markdown",
   "metadata": {},
   "source": [
    "Assingment - 5"
   ]
  },
  {
   "cell_type": "code",
   "execution_count": 5,
   "metadata": {},
   "outputs": [
    {
     "name": "stdout",
     "output_type": "stream",
     "text": [
      "LCM = 6\n"
     ]
    }
   ],
   "source": [
    "#1. Write a Python Program to Find LCM?\n",
    "a = int(input('Enter first number:'))\n",
    "b = int(input('Enter second number:'))\n",
    "if a>b:\n",
    "    c=a\n",
    "else:\n",
    "    c=b\n",
    "while True:\n",
    "    if (c%a == 0) & (c%b == 0):\n",
    "        print('LCM =',c)\n",
    "        break\n",
    "    c=c+1"
   ]
  },
  {
   "cell_type": "code",
   "execution_count": 8,
   "metadata": {},
   "outputs": [
    {
     "name": "stdout",
     "output_type": "stream",
     "text": [
      "HCF = 10\n"
     ]
    }
   ],
   "source": [
    "#2. Write a Python Program to Find HCF?\n",
    "a = int(input('Enter first number:'))\n",
    "b = int(input('Enter second number:'))\n",
    "l1=[]\n",
    "l2=[]\n",
    "for i in range(1,a+1):\n",
    "    if (a%i==0):\n",
    "        l1.append(i)\n",
    "for j in range(1,b+1):\n",
    "    if (b%j==0):\n",
    "        l2.append(j)\n",
    "l3 = set(l1).intersection(l2)\n",
    "print('HCF =',max(l3))\n"
   ]
  },
  {
   "cell_type": "code",
   "execution_count": 10,
   "metadata": {},
   "outputs": [
    {
     "name": "stdout",
     "output_type": "stream",
     "text": [
      "Number in Hexadecimal form is 0x14\n",
      "Number in Octadecimal form is 0o24\n",
      "Number in Binary form is 0b10100\n"
     ]
    }
   ],
   "source": [
    "#3. Write a Python Program to Convert Decimal to Binary, Octal and Hexadecimal?\n",
    "a = int(input('Enter number in Decimal form:'))\n",
    "print('Number in Hexadecimal form is',hex(a)) \n",
    "print('Number in Octadecimal form is',oct(a)) \n",
    "print('Number in Binary form is',bin(a)) "
   ]
  },
  {
   "cell_type": "code",
   "execution_count": 11,
   "metadata": {},
   "outputs": [
    {
     "name": "stdout",
     "output_type": "stream",
     "text": [
      "ASCII value of the charater is 107\n"
     ]
    }
   ],
   "source": [
    "#4. Write a Python Program To Find ASCII value of a character?\n",
    "a = input('Enter the character:')\n",
    "print('ASCII value of the charater is',ord(a))"
   ]
  },
  {
   "cell_type": "code",
   "execution_count": 15,
   "metadata": {},
   "outputs": [
    {
     "name": "stdout",
     "output_type": "stream",
     "text": [
      "Enter Add - 'Addition'\n",
      "Sub - 'Substraction'\n",
      "Mult - 'Multiplication\n",
      "Div - 'Division'.\n",
      "Substraction =  3\n"
     ]
    }
   ],
   "source": [
    "#5. Write a Python Program to Make a Simple Calculator with 4 basic mathematical operations?\n",
    "print(\"Enter Add - 'Addition'\\nSub - 'Substraction'\\nMult - 'Multiplication\\nDiv - 'Division'.\")\n",
    "op = input('Enter desired operation:')\n",
    "a = int(input('Enter first number:'))\n",
    "b = int(input('Enter second number:'))\n",
    "if op=='Add':\n",
    "    print('Addition = ',a+b)\n",
    "elif op=='Sub':\n",
    "    print('Substraction = ',a-b)\n",
    "elif op=='Mult':\n",
    "    print('Multiplication = ',a*b)\n",
    "elif op=='Div':\n",
    "    print('Division = ',a/b)\n"
   ]
  }
 ],
 "metadata": {
  "kernelspec": {
   "display_name": "Python 3.10.7 64-bit (microsoft store)",
   "language": "python",
   "name": "python3"
  },
  "language_info": {
   "codemirror_mode": {
    "name": "ipython",
    "version": 3
   },
   "file_extension": ".py",
   "mimetype": "text/x-python",
   "name": "python",
   "nbconvert_exporter": "python",
   "pygments_lexer": "ipython3",
   "version": "3.10.7"
  },
  "orig_nbformat": 4,
  "vscode": {
   "interpreter": {
    "hash": "e2264beec8d7b11bb795fca20355b0351ef22b1e6bbd267fd730473e336e3027"
   }
  }
 },
 "nbformat": 4,
 "nbformat_minor": 2
}
