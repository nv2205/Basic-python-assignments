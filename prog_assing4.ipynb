{
 "cells": [
  {
   "cell_type": "markdown",
   "metadata": {},
   "source": [
    "1. Write a Python Program to Find the Factorial of a Number?\n",
    "2. Write a Python Program to Display the multiplication Table?\n",
    "3. Write a Python Program to Print the Fibonacci sequence?\n",
    "4. Write a Python Program to Check Armstrong Number?\n",
    "5. Write a Python Program to Find Armstrong Number in an Interval?\n",
    "6. Write a Python Program to Find the Sum of Natural Numbers?"
   ]
  },
  {
   "cell_type": "code",
   "execution_count": 5,
   "metadata": {},
   "outputs": [
    {
     "name": "stdout",
     "output_type": "stream",
     "text": [
      "The factorial of 5 is 120.\n"
     ]
    }
   ],
   "source": [
    "# 1. Write a Python Program to Find the Factorial of a Number?\n",
    "num = int(input(\"Enter a number:\"))\n",
    "fact = 1\n",
    "for i in range(1, num + 1):\n",
    "    fact = fact * i\n",
    "print(\"The factorial of {} is {}.\".format(num, fact))"
   ]
  },
  {
   "cell_type": "code",
   "execution_count": 7,
   "metadata": {},
   "outputs": [
    {
     "name": "stdout",
     "output_type": "stream",
     "text": [
      "3 x 1 = 3\n",
      "3 x 2 = 6\n",
      "3 x 3 = 9\n",
      "3 x 4 = 12\n",
      "3 x 5 = 15\n",
      "3 x 6 = 18\n",
      "3 x 7 = 21\n",
      "3 x 8 = 24\n",
      "3 x 9 = 27\n",
      "3 x 10 = 30\n"
     ]
    }
   ],
   "source": [
    "# 2. Write a Python Program to Display the multiplication Table?\n",
    "num = int(input(\"Enter a number:\"))\n",
    "for i in range(1, 11):\n",
    "    mult = num * i\n",
    "    print(\"{} x {} = {}\".format(num, i, mult))"
   ]
  },
  {
   "cell_type": "code",
   "execution_count": 12,
   "metadata": {},
   "outputs": [
    {
     "name": "stdout",
     "output_type": "stream",
     "text": [
      "1\n",
      "1\n",
      "2\n",
      "3\n",
      "5\n",
      "8\n",
      "13\n",
      "21\n",
      "34\n",
      "55\n"
     ]
    }
   ],
   "source": [
    "# 3. Write a Python Program to Print the Fibonacci sequence?\n",
    "t = int(input(\"No of terms of series wanted:\"))\n",
    "a = 0\n",
    "b = 1\n",
    "for i in range(1, t + 1):\n",
    "    print(b)\n",
    "    a, b = b, a + b"
   ]
  },
  {
   "cell_type": "code",
   "execution_count": 24,
   "metadata": {},
   "outputs": [
    {
     "data": {
      "text/plain": [
       "0"
      ]
     },
     "execution_count": 24,
     "metadata": {},
     "output_type": "execute_result"
    }
   ],
   "source": [
    "int(0.6)"
   ]
  },
  {
   "cell_type": "code",
   "execution_count": 38,
   "metadata": {},
   "outputs": [
    {
     "name": "stdout",
     "output_type": "stream",
     "text": [
      "The number is not an Amstrong number.\n"
     ]
    }
   ],
   "source": [
    "# 4. Write a Python Program to Check Armstrong Number?\n",
    "num = int(input(\"Enter the number\"))\n",
    "digit = 0\n",
    "num1 = 1\n",
    "num2 = num\n",
    "while num1 > 0:\n",
    "    num1 = int(num2 / 10)\n",
    "    digit = digit + 1\n",
    "    num2 = num2 / 10\n",
    "\n",
    "d = digit\n",
    "num2 = num\n",
    "add = 0\n",
    "while digit != 0:\n",
    "    a = int(num2 / 10 ** (digit - 1))\n",
    "    num2 = num2 - (a * (10 ** (digit - 1)))\n",
    "    add = add + a**d\n",
    "    digit = digit - 1\n",
    "\n",
    "if add == num:\n",
    "    print(\"The number is an Amstrong number.\")\n",
    "else:\n",
    "    print(\"The number is not an Amstrong number.\")"
   ]
  },
  {
   "cell_type": "code",
   "execution_count": 66,
   "metadata": {},
   "outputs": [
    {
     "name": "stdout",
     "output_type": "stream",
     "text": [
      "1\n",
      "2\n",
      "3\n",
      "4\n",
      "5\n",
      "6\n",
      "7\n",
      "8\n",
      "9\n",
      "153\n",
      "370\n",
      "371\n",
      "407\n"
     ]
    }
   ],
   "source": [
    "# 5. Write a Python Program to Find Armstrong Number in an Interval?\n",
    "l = int(input(\"Enter lower limit of interval:\"))\n",
    "u = int(input(\"Enter upper limit of interval:\"))\n",
    "\n",
    "for i in range(l, u + 1):\n",
    "    digit = 0\n",
    "    num1 = 1\n",
    "    num2 = i\n",
    "    while num1 > 0:\n",
    "        num1 = int(num2 / 10)\n",
    "        digit = digit + 1\n",
    "        num2 = num2 / 10\n",
    "\n",
    "    d = digit\n",
    "    num2 = i\n",
    "    add = 0\n",
    "    a = 0\n",
    "    while num2 > 0:\n",
    "        a = int(num2 / 10 ** (digit - 1))\n",
    "        add = add + a**d\n",
    "        num2 = num2 - (a * (10 ** (digit - 1)))\n",
    "        digit = digit - 1\n",
    "    \n",
    "\n",
    "    if i == add:\n",
    "        print(i)"
   ]
  },
  {
   "cell_type": "code",
   "execution_count": 49,
   "metadata": {},
   "outputs": [
    {
     "name": "stdout",
     "output_type": "stream",
     "text": [
      "Sum with out for loop 5050.\n",
      "Sum using for loop is 5050.\n"
     ]
    }
   ],
   "source": [
    "# 6. Write a Python Program to Find the Sum of Natural Numbers?\n",
    "num = int(input(\"Enter the number:\"))\n",
    "sum1 = (num * (num + 1)) / 2\n",
    "print(\"Sum with out for loop {}.\".format(int(sum1)))\n",
    "sum2 = 0\n",
    "for i in range(1, num + 1):\n",
    "    sum2 = sum2 + i\n",
    "print(\"Sum using for loop is {}.\".format(sum2))"
   ]
  }
 ],
 "metadata": {
  "kernelspec": {
   "display_name": "Python 3.10.6 64-bit (windows store)",
   "language": "python",
   "name": "python3"
  },
  "language_info": {
   "codemirror_mode": {
    "name": "ipython",
    "version": 3
   },
   "file_extension": ".py",
   "mimetype": "text/x-python",
   "name": "python",
   "nbconvert_exporter": "python",
   "pygments_lexer": "ipython3",
   "version": "3.10.6"
  },
  "orig_nbformat": 4,
  "vscode": {
   "interpreter": {
    "hash": "e2264beec8d7b11bb795fca20355b0351ef22b1e6bbd267fd730473e336e3027"
   }
  }
 },
 "nbformat": 4,
 "nbformat_minor": 2
}
