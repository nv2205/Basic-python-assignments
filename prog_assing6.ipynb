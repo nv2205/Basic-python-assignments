{
 "cells": [
  {
   "cell_type": "markdown",
   "metadata": {},
   "source": [
    "Assingment 6"
   ]
  },
  {
   "cell_type": "code",
   "execution_count": 1,
   "metadata": {},
   "outputs": [
    {
     "name": "stdout",
     "output_type": "stream",
     "text": [
      "0\n",
      "1\n",
      "1\n",
      "2\n",
      "3\n",
      "5\n",
      "8\n",
      "13\n",
      "21\n",
      "34\n"
     ]
    }
   ],
   "source": [
    "#1. Write a Python Program to Display Fibonacci Sequence Using Recursion?\n",
    "def fib(n):\n",
    "    if n<=1:\n",
    "        return n \n",
    "    else:\n",
    "        a=(fib(n-1)+fib(n-2))\n",
    "        return a\n",
    "\n",
    "term = int(input('Enter Number of terms:'))\n",
    "for i in range(term):\n",
    "    print(fib(i))"
   ]
  },
  {
   "cell_type": "code",
   "execution_count": 2,
   "metadata": {},
   "outputs": [
    {
     "name": "stdout",
     "output_type": "stream",
     "text": [
      "120\n"
     ]
    }
   ],
   "source": [
    "#2. Write a Python Program to Find Factorial of Number Using Recursion?\n",
    "def fct(n):\n",
    "    if n<=1:\n",
    "        return n\n",
    "    else:\n",
    "        a = n*fct(n-1)\n",
    "        return a  \n",
    "\n",
    "num = int(input('Enter the number'))\n",
    "print(fct(num))"
   ]
  },
  {
   "cell_type": "code",
   "execution_count": 5,
   "metadata": {},
   "outputs": [
    {
     "name": "stdout",
     "output_type": "stream",
     "text": [
      "Body Mass Index = 0.23529411764705882\n"
     ]
    }
   ],
   "source": [
    "#3. Write a Python Program to calculate your Body Mass Index?\n",
    "w = int(input('Enter body weight in Kg:'))\n",
    "h = int(input('Enter body hight in meter:'))\n",
    "bmi = w/(h*2)\n",
    "print('Body Mass Index =',bmi)"
   ]
  },
  {
   "cell_type": "code",
   "execution_count": 7,
   "metadata": {},
   "outputs": [
    {
     "name": "stdout",
     "output_type": "stream",
     "text": [
      "2.302585092994046\n"
     ]
    }
   ],
   "source": [
    "#4. Write a Python Program to calculate the natural logarithm of any number?\n",
    "import math\n",
    "num = int(input('Enter the number:'))\n",
    "print(math.log(num))"
   ]
  },
  {
   "cell_type": "code",
   "execution_count": 8,
   "metadata": {},
   "outputs": [
    {
     "name": "stdout",
     "output_type": "stream",
     "text": [
      "The sum of cube of numbers is  3025\n"
     ]
    }
   ],
   "source": [
    "#5. Write a Python Program for cube sum of first n natural numbers?\n",
    "num = int(input('Enter the number:'))\n",
    "sum = 0\n",
    "for i in range(num+1):\n",
    "    cube = i**3\n",
    "    sum = sum + cube\n",
    "print('The sum of cube of numbers is ',sum)\n"
   ]
  }
 ],
 "metadata": {
  "kernelspec": {
   "display_name": "Python 3.10.7 64-bit (microsoft store)",
   "language": "python",
   "name": "python3"
  },
  "language_info": {
   "codemirror_mode": {
    "name": "ipython",
    "version": 3
   },
   "file_extension": ".py",
   "mimetype": "text/x-python",
   "name": "python",
   "nbconvert_exporter": "python",
   "pygments_lexer": "ipython3",
   "version": "3.10.7"
  },
  "orig_nbformat": 4,
  "vscode": {
   "interpreter": {
    "hash": "e2264beec8d7b11bb795fca20355b0351ef22b1e6bbd267fd730473e336e3027"
   }
  }
 },
 "nbformat": 4,
 "nbformat_minor": 2
}
