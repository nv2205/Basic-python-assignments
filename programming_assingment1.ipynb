{
 "cells": [
  {
   "cell_type": "markdown",
   "metadata": {},
   "source": [
    "Programming assingment 1"
   ]
  },
  {
   "cell_type": "code",
   "execution_count": 1,
   "metadata": {},
   "outputs": [
    {
     "name": "stdout",
     "output_type": "stream",
     "text": [
      "Hello Python\n"
     ]
    }
   ],
   "source": [
    "#1. Write a Python program to print 'Hello Python'?\n",
    "print('Hello Python')"
   ]
  },
  {
   "cell_type": "code",
   "execution_count": 3,
   "metadata": {},
   "outputs": [
    {
     "name": "stdout",
     "output_type": "stream",
     "text": [
      "Addition of 10 and 20 is 30.\n",
      "Division of 10 and 20 is 0.5.\n"
     ]
    }
   ],
   "source": [
    "#2. Write a Python program to do arithmetical operations addition and division.?\n",
    "a = 10\n",
    "b = 20\n",
    "c = a+b\n",
    "d = a/b\n",
    "print('Addition of {} and {} is {}.'.format(a,b,c))\n",
    "print('Division of {} and {} is {}.'.format(a,b,d))"
   ]
  },
  {
   "cell_type": "code",
   "execution_count": 4,
   "metadata": {},
   "outputs": [
    {
     "name": "stdout",
     "output_type": "stream",
     "text": [
      "The area of tringle with base 10 and perpendicular 20 is 100.0\n"
     ]
    }
   ],
   "source": [
    "#3. Write a Python program to find the area of a triangle?\n",
    "base = 10\n",
    "perpendicular = 20\n",
    "area = 0.5*base*perpendicular\n",
    "print('The area of tringle with base {} and perpendicular {} is {}'.format(base,perpendicular,area))"
   ]
  },
  {
   "cell_type": "code",
   "execution_count": 5,
   "metadata": {},
   "outputs": [
    {
     "name": "stdout",
     "output_type": "stream",
     "text": [
      "Initial value of a is 10 and of b is Niyati\n",
      "Final value of a is Niyati and of b is 10\n"
     ]
    }
   ],
   "source": [
    "#4. Write a Python program to swap two variables?\n",
    "a = 10\n",
    "b = 'Niyati'\n",
    "print('Initial value of a is {} and of b is {}'.format(a,b))\n",
    "c = a\n",
    "a = b\n",
    "b = c\n",
    "print('Final value of a is {} and of b is {}'.format(a,b))\n",
    "\n",
    "\n"
   ]
  },
  {
   "cell_type": "code",
   "execution_count": 9,
   "metadata": {},
   "outputs": [
    {
     "name": "stdout",
     "output_type": "stream",
     "text": [
      "65\n"
     ]
    }
   ],
   "source": [
    "#5. Write a Python program to generate a random number?\n",
    "import random\n",
    "upper = 100\n",
    "lower = 0\n",
    "a = random.randint(lower,upper)\n",
    "print(a)"
   ]
  }
 ],
 "metadata": {
  "kernelspec": {
   "display_name": "Python 3.10.4 64-bit",
   "language": "python",
   "name": "python3"
  },
  "language_info": {
   "codemirror_mode": {
    "name": "ipython",
    "version": 3
   },
   "file_extension": ".py",
   "mimetype": "text/x-python",
   "name": "python",
   "nbconvert_exporter": "python",
   "pygments_lexer": "ipython3",
   "version": "3.10.4"
  },
  "orig_nbformat": 4,
  "vscode": {
   "interpreter": {
    "hash": "8938edf0baac9b47804425380bd4e2ec76201205ee9477cad98447253a825e18"
   }
  }
 },
 "nbformat": 4,
 "nbformat_minor": 2
}
